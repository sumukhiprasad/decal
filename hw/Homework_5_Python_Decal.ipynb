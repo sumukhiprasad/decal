{
 "cells": [
  {
   "cell_type": "code",
   "execution_count": 57,
   "id": "c4312c07-4bca-4c89-a0c5-fd7e5476fe3e",
   "metadata": {},
   "outputs": [],
   "source": [
    "import numpy as np"
   ]
  },
  {
   "cell_type": "code",
   "execution_count": 7,
   "id": "f34d9813-b8e9-4fa5-9c76-daba4ccab2f3",
   "metadata": {},
   "outputs": [
    {
     "data": {
      "text/plain": [
       "array([1, 2])"
      ]
     },
     "execution_count": 7,
     "metadata": {},
     "output_type": "execute_result"
    }
   ],
   "source": [
    "# PRACTICE FOR DETERMINING WHAT EACH PART OF THE ARRAY DOCUMENTATION REPRESENTS\n",
    "\n",
    "a = np.array([1,2,3])\n",
    "a[:-1]"
   ]
  },
  {
   "cell_type": "code",
   "execution_count": 9,
   "id": "fb1d4bd2-9a46-46f2-8198-ab7b19be7687",
   "metadata": {},
   "outputs": [
    {
     "data": {
      "text/plain": [
       "2"
      ]
     },
     "execution_count": 9,
     "metadata": {},
     "output_type": "execute_result"
    }
   ],
   "source": [
    "# PRACTICE FOR DETERMINING WHAT EACH PART OF THE ARRAY DOCUMENTATION REPRESENTS\n",
    "\n",
    "a = np.array([[1,2,3], [1,1,1]])\n",
    "a[0][1]"
   ]
  },
  {
   "cell_type": "code",
   "execution_count": 47,
   "id": "cdea2072-0aee-4ee2-a99a-da17374009bc",
   "metadata": {},
   "outputs": [
    {
     "data": {
      "text/plain": [
       "array([[1, 1, 1],\n",
       "       [2, 2, 2]])"
      ]
     },
     "execution_count": 47,
     "metadata": {},
     "output_type": "execute_result"
    }
   ],
   "source": [
    "### PROBLEM 1 SOLUTION ###\n",
    "\n",
    "arr = np.array([[1, 1, 1], [1, 2, 3], [2, 2, 2]])\n",
    "solution = np.all(arr[:,1:] == arr[:,:-1], axis = 1) # this says that every row of the given array that has a column of index 1 and after... And if this is equal to every object in every row in the array with columns of index 1 and before (because the negative sign indicates we are looking at the array back to front), then this means we have an array in which all the values are equal. Axis = 1 means that it is assigning a boolean value based on reading all the values horizontally and comparing column to column ( comparing row to row would mean axis of 0 ). So it will assign a boolean value after analyzing all the values across a given row (column to column). If there is any false values, the ultimate boolean value at the end will be false.  \n",
    "# the arr == arr part makes a matrix of boolean values and axis assigns a boolean value based on whether it is reading the values vertically or horizontally indicated by axis being 0 or 1... We get \"False, False\" when axis = 0 because the matrix is read vertically down and there is one false value in the first column and a second false value in the second column.\n",
    "#print(arr)\n",
    "#print(arr[:,1:] == arr[:,:-1])\n",
    "arr[solution]\n",
    "# How can i get python to output the associated values?\n"
   ]
  },
  {
   "cell_type": "code",
   "execution_count": 74,
   "id": "a4e2d302-ea92-4250-997f-e4d04fb27fa1",
   "metadata": {},
   "outputs": [
    {
     "data": {
      "text/plain": [
       "2"
      ]
     },
     "execution_count": 74,
     "metadata": {},
     "output_type": "execute_result"
    }
   ],
   "source": [
    "# PRACTICE FOR DETERMINING WHAT EACH PART OF THE ARRAY DOCUMENTATION REPRESENTS\n",
    "\n",
    "first_array = arr[1][1]\n",
    "first_array"
   ]
  },
  {
   "cell_type": "code",
   "execution_count": 15,
   "id": "1676b0f9-e1bc-468f-911a-229485898453",
   "metadata": {},
   "outputs": [
    {
     "data": {
      "text/plain": [
       "array([[1, 1],\n",
       "       [2, 3],\n",
       "       [2, 2]])"
      ]
     },
     "execution_count": 15,
     "metadata": {},
     "output_type": "execute_result"
    }
   ],
   "source": [
    "# PRACTICE FOR DETERMINING WHAT EACH PART OF THE ARRAY DOCUMENTATION REPRESENTS\n",
    "\n",
    "new_array = arr[:,1:] # this is accessing all the rows and each column after (and including) the first index \n",
    "new_array"
   ]
  },
  {
   "cell_type": "code",
   "execution_count": 18,
   "id": "4ab4f636-c912-4fd8-aca4-8069e001e747",
   "metadata": {},
   "outputs": [
    {
     "data": {
      "text/plain": [
       "array([[1, 2, 3],\n",
       "       [2, 2, 2]])"
      ]
     },
     "execution_count": 18,
     "metadata": {},
     "output_type": "execute_result"
    }
   ],
   "source": [
    "# PRACTICE FOR DETERMINING WHAT HAPPENS WHEN BRACKETS ARE USED AND WHAT EACH PART OF THE ARRAY DOCUMENTATION REPRESENTS\n",
    "\n",
    "second_array = arr[:][1:] # this is accessing every element in the array. Then it is accessing every row after (and including) the first index\n",
    "second_array"
   ]
  },
  {
   "cell_type": "code",
   "execution_count": 25,
   "id": "1fd90e9d-b796-4d70-ba50-59ba83ccd7cc",
   "metadata": {},
   "outputs": [
    {
     "name": "stdout",
     "output_type": "stream",
     "text": [
      "(3,)\n",
      "[1, 2, 3, 4]\n"
     ]
    }
   ],
   "source": [
    "# PRACTICE FOR DETERMINING WHAT HAPPENS WHEN ARRAYS OF DIFFERING SIZES ARE INPUTTED\n",
    "\n",
    "arg = np.array([[1,2,3,4], [5,6,7], [8,9,0,0]], dtype = object) #creating a list of all the objects since they are of different arrays\n",
    "third_array = arg[0] # this is accessing the entire array through the brackets. Then it is accessing every row after (and including) the first index. Then it is accessing the column located at index 2. \n",
    "print(np.shape(arg)) # treating arg above as a list and counting the objects in the list as elements\n",
    "print(third_array) # accessing the 0th element of the array (in this case a list)"
   ]
  },
  {
   "cell_type": "code",
   "execution_count": 36,
   "id": "d44564c1-405b-47ed-b053-c08379d2bf48",
   "metadata": {},
   "outputs": [
    {
     "data": {
      "text/plain": [
       "array([3, 2])"
      ]
     },
     "execution_count": 36,
     "metadata": {},
     "output_type": "execute_result"
    }
   ],
   "source": [
    "# PRACTICE FOR DETERMINING WHAT HAPPENS WHEN ARRAYS OF DIFFERING SIZES ARE INPUTTED\n",
    "\n",
    "second_array = arr[:][1:,2] # this accesses every row in the array. Then it indexes and accesses every object in the array that has a row of index 1 and after with a column of index 2.\n",
    "second_array"
   ]
  },
  {
   "cell_type": "code",
   "execution_count": 42,
   "id": "ca53acb7-5f89-4bd1-80eb-115c163f7772",
   "metadata": {},
   "outputs": [
    {
     "data": {
      "text/plain": [
       "1"
      ]
     },
     "execution_count": 42,
     "metadata": {},
     "output_type": "execute_result"
    }
   ],
   "source": [
    "# PRACTICE FOR DETERMINING WHAT HAPPENS WHEN ARRAYS OF DIFFERING SIZES ARE INPUTTED\n",
    "\n",
    "another_array = arr[:,1][0] # verdict. Everything inside the bracket is in row, column documentation. Meaning that even if I have [:], this means I am accessing every row of that matrix. But if I want to access every object in every row of that array that has a column of index 1, I would do [:,1]. And if I want to just access the 0th indexed object in that array, I would type [0] after.\n",
    "another_array"
   ]
  },
  {
   "cell_type": "code",
   "execution_count": 44,
   "id": "4142ac7e-942d-4f43-bf06-84d4e562624b",
   "metadata": {},
   "outputs": [
    {
     "ename": "SyntaxError",
     "evalue": "invalid syntax (494551730.py, line 1)",
     "output_type": "error",
     "traceback": [
      "\u001b[0;36m  Cell \u001b[0;32mIn[44], line 1\u001b[0;36m\u001b[0m\n\u001b[0;31m    practice = arr[,:]\u001b[0m\n\u001b[0m                   ^\u001b[0m\n\u001b[0;31mSyntaxError\u001b[0m\u001b[0;31m:\u001b[0m invalid syntax\n"
     ]
    }
   ],
   "source": [
    "# PRACTICE FOR DETERMINING WHAT HAPPENS WHEN ARRAYS OF DIFFERING SIZES ARE INPUTTED\n",
    "\n",
    "practice = arr[,:] # need to index by rows and columns. Row leads the way.\n",
    "practice"
   ]
  },
  {
   "cell_type": "code",
   "execution_count": null,
   "id": "fd3dfd2a-00e3-4ca1-87b7-6deb3e98e2e5",
   "metadata": {},
   "outputs": [],
   "source": [
    "# verdict. Everything inside the bracket is in row, column documentation. Meaning that even if I have [:], this means I am accessing every row of that matrix. But if I want to access every object in every row of that array that has a column of index 1, I would do [:,1]. And if I want to just access the 0th indexed object in that array, I would type [0] after."
   ]
  },
  {
   "cell_type": "code",
   "execution_count": 48,
   "id": "b0e940d4-bfdb-417d-a93a-08931cdbefbe",
   "metadata": {},
   "outputs": [
    {
     "data": {
      "text/plain": [
       "array([1, 2, 2])"
      ]
     },
     "execution_count": 48,
     "metadata": {},
     "output_type": "execute_result"
    }
   ],
   "source": [
    "# PRACTICE FOR DETERMINING WHAT HAPPENS WHEN ARRAYS OF DIFFERING SIZES ARE INPUTTED\n",
    "\n",
    "practice = arr[:,1] # this is accessing every row and column of index 1. \n",
    "practice"
   ]
  },
  {
   "cell_type": "code",
   "execution_count": 5,
   "id": "59aa8b2f-8179-43f7-aa0a-54029bc14a0b",
   "metadata": {},
   "outputs": [
    {
     "name": "stdout",
     "output_type": "stream",
     "text": [
      "[[0 1 0 1 0 1 0 1]\n",
      " [1 0 1 0 1 0 1 0]\n",
      " [0 1 0 1 0 1 0 1]\n",
      " [1 0 1 0 1 0 1 0]\n",
      " [0 1 0 1 0 1 0 1]\n",
      " [1 0 1 0 1 0 1 0]\n",
      " [0 1 0 1 0 1 0 1]\n",
      " [1 0 1 0 1 0 1 0]]\n"
     ]
    }
   ],
   "source": [
    "### PROBLEM 2 SOLUTION ###\n",
    "\n",
    "x = np.zeros((8,8),dtype=int) # this creates an 8x8 numpy array filled with zeros.\n",
    "x[1::2,::2] = 1 # Assigns the value 1 to every other element in every other row (starts at row with index 1 and goes to every row after that with a step size of 2), starting from the second row (index 1). The remaining rows are filled with zeros. \n",
    "x[::2,1::2] = 1 # Assigns the value 1 to every other element in every other column, starting from the second column (index 1). This is written opposite of first line to fill in the gaps and address the lines not accounted for by the first line. This fills remaining spots with 1 to complete checkerboard pattern.\n",
    "print(x)\n",
    "\n",
    "#question and answer... what do the items inside the brackets really represent if not rows and columns? It represents [row, column] and within the bracket it is [start:stop:end, start:stop:end]"
   ]
  },
  {
   "cell_type": "code",
   "execution_count": 39,
   "id": "5558b472-826a-46b4-9f18-ec63be7dc52d",
   "metadata": {},
   "outputs": [
    {
     "data": {
      "text/plain": [
       "array([[0, 0, 0, 0, 0, 0, 0, 0],\n",
       "       [1, 0, 1, 0, 1, 0, 1, 0],\n",
       "       [0, 0, 0, 0, 0, 0, 0, 0],\n",
       "       [1, 0, 1, 0, 1, 0, 1, 0],\n",
       "       [0, 0, 0, 0, 0, 0, 0, 0],\n",
       "       [1, 0, 1, 0, 1, 0, 1, 0],\n",
       "       [0, 0, 0, 0, 0, 0, 0, 0],\n",
       "       [1, 0, 1, 0, 1, 0, 1, 0]])"
      ]
     },
     "execution_count": 39,
     "metadata": {},
     "output_type": "execute_result"
    }
   ],
   "source": [
    "# PRACTICE FOR UNDERSTANDING PROBLEM 2\n",
    "\n",
    "x = np.zeros((8,8),dtype=int)\n",
    "x[1::2,::2] = 1\n",
    "x"
   ]
  },
  {
   "cell_type": "code",
   "execution_count": 27,
   "id": "47c45fe5-c687-4487-90b0-28e05093c1a0",
   "metadata": {},
   "outputs": [
    {
     "name": "stdout",
     "output_type": "stream",
     "text": [
      "Resultant list is :[5, 8, 10, 8, 18]\n"
     ]
    }
   ],
   "source": [
    "# PRACTICE FOR UNDERSTANDING HOW TO ADD TWO LISTS TOGETHER WITH FOR-LOOPS AND NOT USE NUMPY\n",
    "\n",
    "#Question is how can i add two lists together without numpy and using for-loops\n",
    "test_list1 = [1, 3, 4, 6, 8]\n",
    "test_list2 = [4, 5, 6, 2, 10]\n",
    "res_list = []\n",
    "for i in range(0, len(test_list1)): # why can't i iterate through test_list1 by not putting range and len?... because i would be accessing ith element and trying to index through the second list using the value stored in that ith element of the first list. So once the loop gets to 6 in the first list, it would try to find the 6th index of the second list. \n",
    "    res_list.append(test_list1[i] + test_list2[i])\n",
    "print (\"Resultant list is :\" + str(res_list))"
   ]
  },
  {
   "cell_type": "code",
   "execution_count": 71,
   "id": "83c4ab73-c4d4-45da-8da6-ba1dc8cedcfb",
   "metadata": {},
   "outputs": [
    {
     "name": "stdout",
     "output_type": "stream",
     "text": [
      "['p y t h o n' 'i s' 'c o o l !']\n"
     ]
    }
   ],
   "source": [
    "### PROBLEM 3 SOLUTION ###\n",
    "\n",
    "myarr = np.array([\"python\",\"is\",\"cool!\"], dtype = str) # np.str is an old alias and is now delimited as str. Creates an array of strings \n",
    "r = np.char.join(\" \", myarr) # this function allows for a space to be added in between each character in the myarr array. The documentation is np.char.join(separator,string) and the separator we want in this case is a space. The string in this case is the array of strings denoted by dtype strings.\n",
    "print(r)"
   ]
  },
  {
   "cell_type": "code",
   "execution_count": 69,
   "id": "2e251ef1-49b2-4612-82b4-be2052000144",
   "metadata": {},
   "outputs": [
    {
     "name": "stderr",
     "output_type": "stream",
     "text": [
      "/tmp/ipykernel_81/3830864829.py:1: FutureWarning: In the future `np.str` will be defined as the corresponding NumPy scalar.\n",
      "  np.str\n"
     ]
    },
    {
     "ename": "AttributeError",
     "evalue": "module 'numpy' has no attribute 'str'.\n`np.str` was a deprecated alias for the builtin `str`. To avoid this error in existing code, use `str` by itself. Doing this will not modify any behavior and is safe. If you specifically wanted the numpy scalar type, use `np.str_` here.\nThe aliases was originally deprecated in NumPy 1.20; for more details and guidance see the original release note at:\n    https://numpy.org/devdocs/release/1.20.0-notes.html#deprecations",
     "output_type": "error",
     "traceback": [
      "\u001b[0;31m---------------------------------------------------------------------------\u001b[0m",
      "\u001b[0;31mAttributeError\u001b[0m                            Traceback (most recent call last)",
      "Cell \u001b[0;32mIn[69], line 1\u001b[0m\n\u001b[0;32m----> 1\u001b[0m np\u001b[38;5;241m.\u001b[39mstr\n",
      "File \u001b[0;32m/opt/conda/envs/anaconda-panel-2023.05-py310/lib/python3.11/site-packages/numpy/__init__.py:305\u001b[0m, in \u001b[0;36m__getattr__\u001b[0;34m(attr)\u001b[0m\n\u001b[1;32m    300\u001b[0m     warnings\u001b[38;5;241m.\u001b[39mwarn(\n\u001b[1;32m    301\u001b[0m         \u001b[38;5;124mf\u001b[39m\u001b[38;5;124m\"\u001b[39m\u001b[38;5;124mIn the future `np.\u001b[39m\u001b[38;5;132;01m{\u001b[39;00mattr\u001b[38;5;132;01m}\u001b[39;00m\u001b[38;5;124m` will be defined as the \u001b[39m\u001b[38;5;124m\"\u001b[39m\n\u001b[1;32m    302\u001b[0m         \u001b[38;5;124m\"\u001b[39m\u001b[38;5;124mcorresponding NumPy scalar.\u001b[39m\u001b[38;5;124m\"\u001b[39m, \u001b[38;5;167;01mFutureWarning\u001b[39;00m, stacklevel\u001b[38;5;241m=\u001b[39m\u001b[38;5;241m2\u001b[39m)\n\u001b[1;32m    304\u001b[0m \u001b[38;5;28;01mif\u001b[39;00m attr \u001b[38;5;129;01min\u001b[39;00m __former_attrs__:\n\u001b[0;32m--> 305\u001b[0m     \u001b[38;5;28;01mraise\u001b[39;00m \u001b[38;5;167;01mAttributeError\u001b[39;00m(__former_attrs__[attr])\n\u001b[1;32m    307\u001b[0m \u001b[38;5;66;03m# Importing Tester requires importing all of UnitTest which is not a\u001b[39;00m\n\u001b[1;32m    308\u001b[0m \u001b[38;5;66;03m# cheap import Since it is mainly used in test suits, we lazy import it\u001b[39;00m\n\u001b[1;32m    309\u001b[0m \u001b[38;5;66;03m# here to save on the order of 10 ms of import time for most users\u001b[39;00m\n\u001b[1;32m    310\u001b[0m \u001b[38;5;66;03m#\u001b[39;00m\n\u001b[1;32m    311\u001b[0m \u001b[38;5;66;03m# The previous way Tester was imported also had a side effect of adding\u001b[39;00m\n\u001b[1;32m    312\u001b[0m \u001b[38;5;66;03m# the full `numpy.testing` namespace\u001b[39;00m\n\u001b[1;32m    313\u001b[0m \u001b[38;5;28;01mif\u001b[39;00m attr \u001b[38;5;241m==\u001b[39m \u001b[38;5;124m'\u001b[39m\u001b[38;5;124mtesting\u001b[39m\u001b[38;5;124m'\u001b[39m:\n",
      "\u001b[0;31mAttributeError\u001b[0m: module 'numpy' has no attribute 'str'.\n`np.str` was a deprecated alias for the builtin `str`. To avoid this error in existing code, use `str` by itself. Doing this will not modify any behavior and is safe. If you specifically wanted the numpy scalar type, use `np.str_` here.\nThe aliases was originally deprecated in NumPy 1.20; for more details and guidance see the original release note at:\n    https://numpy.org/devdocs/release/1.20.0-notes.html#deprecations"
     ]
    }
   ],
   "source": [
    "# TEST TO SEE THAT CERTAIN DTYPE DOCUMENTATION HAS CHANGED\n",
    "\n",
    "np.str"
   ]
  },
  {
   "cell_type": "code",
   "execution_count": 99,
   "id": "71e6e6fc-a8f7-4699-ada9-a5c7679f7bc1",
   "metadata": {},
   "outputs": [
    {
     "data": {
      "text/plain": [
       "array([[12, 14, 11,  2,  2],\n",
       "       [15, 38, 28, 17, 10],\n",
       "       [35, 38, 30, 18, 19],\n",
       "       [42, 42, 35, 30, 37]])"
      ]
     },
     "execution_count": 99,
     "metadata": {},
     "output_type": "execute_result"
    }
   ],
   "source": [
    "### PROBLEM 4 SOLUTION ###\n",
    "\n",
    "np.random.seed(12345) # initializes the random function? sets the seed for generating random values. but what does 12345 represent?\n",
    "a = np.random.randint(1,50,(4,5)) #Return random integers from low (inclusive) to high (exclusive) of size (provided in form of integer or tuple-in this case tuple bc we want a 4x5 matrix)\n",
    "np.sort(a[::], axis = 0) #np.sort returns a sorted array copy... the documentation for np.sort is \"numpy.sort(a, axis=-1, kind=None, order=None)\". We want np.sort to sort through the a object/array (in its entirety) and sort vertically (meaning sorting based on comparing row value to next row value) which means we need to set the axis to 0.\n"
   ]
  },
  {
   "cell_type": "code",
   "execution_count": 89,
   "id": "d2be5b5f-b287-4098-b2b3-7d9078aee450",
   "metadata": {},
   "outputs": [],
   "source": []
  },
  {
   "cell_type": "code",
   "execution_count": null,
   "id": "2229868b-2fe7-4a23-8f9a-5c148af7ac3b",
   "metadata": {},
   "outputs": [],
   "source": []
  }
 ],
 "metadata": {
  "kernelspec": {
   "display_name": "anaconda-panel-2023.05-py310",
   "language": "python",
   "name": "conda-env-anaconda-panel-2023.05-py310-py"
  },
  "language_info": {
   "codemirror_mode": {
    "name": "ipython",
    "version": 3
   },
   "file_extension": ".py",
   "mimetype": "text/x-python",
   "name": "python",
   "nbconvert_exporter": "python",
   "pygments_lexer": "ipython3",
   "version": "3.11.5"
  }
 },
 "nbformat": 4,
 "nbformat_minor": 5
}
